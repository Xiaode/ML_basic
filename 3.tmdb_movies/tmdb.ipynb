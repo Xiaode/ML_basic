{
 "cells": [
  {
   "cell_type": "markdown",
   "metadata": {
    "id": "FC3C2ACFA91244878E10359A33959D7A",
    "mdEditEnable": false
   },
   "source": [
    "# 项目：TMDb电影数据分析报告\n",
    "\n",
    "## 目录\n",
    "\n",
    "<ul>\n",
    "<li><a href=\"#intro\">简介</a></li>\n",
    "<li><a href=\"#wrangling\">数据整理</a></li>\n",
    "<li><a href=\"#eda\">探索性数据分析</a></li>\n",
    "<li><a href=\"#conclusions\">结论</a></li>\n",
    "</ul>\n",
    "\n",
    "<a id='intro'></a>\n",
    "\n",
    "## 简介\n",
    "TMDb电影数据集包含了 1960 年到 2015 年上映的大概一万部电影的信息，其中包括票房、电影名、演员、评分、电影风格等信息。对于电影的评分使用最多的就是TMDb评分。  \n",
    "要探索的问题有：\n",
    "1. 评分在哪个分数段的电影最多？\n",
    "2. 票房和评分之间有什么关系？\n",
    "3. 评分最高的一百部电影的主要风格是什么？\n",
    "4. 随着时间的推移，电影收入和数量是怎么变化的？"
   ]
  },
  {
   "cell_type": "code",
   "execution_count": 179,
   "metadata": {
    "id": "7ED6FD6E8B764D138F435FADC72F1B02",
    "scrolled": false
   },
   "outputs": [],
   "source": [
    "import numpy as np\n",
    "import pandas as pd\n",
    "from pandas import Series, DataFrame\n",
    "import matplotlib.pyplot as plt\n",
    "# magic word\n",
    "%matplotlib inline\n",
    "%reload_ext autoreload\n",
    "# 使作图在jupyter notebook中能够显示出来，而不是通过弹出另外一个窗口来显示\n",
    "# 修改脚本后，不用手动重新导入，自动完成该操作"
   ]
  },
  {
   "cell_type": "markdown",
   "metadata": {},
   "source": [
    "解决Matplotlib输出中文显示问题："
   ]
  },
  {
   "cell_type": "code",
   "execution_count": 180,
   "metadata": {},
   "outputs": [],
   "source": [
    "from pylab import mpl\n",
    "\n",
    "mpl.rcParams['font.sans-serif'] = ['SimHei'] # 指定默认字体\n",
    "mpl.rcParams['axes.unicode_minus'] = False # 解决保存图像是负号'-'显示为方块的问题"
   ]
  },
  {
   "cell_type": "markdown",
   "metadata": {
    "id": "751FE3E230144E1A81CECC7777FC73E6",
    "mdEditEnable": false
   },
   "source": [
    "<a id='wrangling'></a>\n",
    "## 数据整理"
   ]
  },
  {
   "cell_type": "code",
   "execution_count": 181,
   "metadata": {
    "id": "10B37B87A4734E978BD43185F78927F8",
    "scrolled": false
   },
   "outputs": [
    {
     "name": "stdout",
     "output_type": "stream",
     "text": [
      "<class 'pandas.core.frame.DataFrame'>\n",
      "RangeIndex: 10866 entries, 0 to 10865\n",
      "Data columns (total 21 columns):\n",
      "id                      10866 non-null int64\n",
      "imdb_id                 10856 non-null object\n",
      "popularity              10866 non-null float64\n",
      "budget                  10866 non-null int64\n",
      "revenue                 10866 non-null int64\n",
      "original_title          10866 non-null object\n",
      "cast                    10790 non-null object\n",
      "homepage                2936 non-null object\n",
      "director                10822 non-null object\n",
      "tagline                 8042 non-null object\n",
      "keywords                9373 non-null object\n",
      "overview                10862 non-null object\n",
      "runtime                 10866 non-null int64\n",
      "genres                  10843 non-null object\n",
      "production_companies    9836 non-null object\n",
      "release_date            10866 non-null object\n",
      "vote_count              10866 non-null int64\n",
      "vote_average            10866 non-null float64\n",
      "release_year            10866 non-null int64\n",
      "budget_adj              10866 non-null float64\n",
      "revenue_adj             10866 non-null float64\n",
      "dtypes: float64(4), int64(6), object(11)\n",
      "memory usage: 1.7+ MB\n"
     ]
    }
   ],
   "source": [
    "# 加载数据并打印几行。进行这几项操作，来检查数据类型，以及是否有缺失数据或错误数据的情况。\n",
    "movies_df = pd.read_csv('tmdb-movies.csv')\n",
    "movies_df.info() # 检查数据"
   ]
  },
  {
   "cell_type": "markdown",
   "metadata": {},
   "source": [
    "在将数据导入以后，肯定要对数据进行理解，即知道各个数据所代表的含义。 数据字段含义如下：\n",
    "\n",
    "* imdb_id：IMDB 标识号\n",
    "* popularity：在 Movie Database 上的相对页面查看次数\n",
    "* budget：预算（美元）\n",
    "* revenue：收入（美元）\n",
    "* original_title：电影名称\n",
    "* cast：演员列表，按 | 分隔，最多 5 名演员\n",
    "* homepage：电影首页的 URL\n",
    "* director：导演列表，按 | 分隔，最多 5 名导演\n",
    "* tagline：电影的标语\n",
    "* keywords：与电影相关的关键字，按 | 分隔，最多 5 个关键字\n",
    "* overview：剧情摘要\n",
    "* runtime：电影时长\n",
    "* genres：风格列表，按 | 分隔，最多 5 种风格\n",
    "* production_companies：制作公司列表，按 | 分隔，最多 5 家公司\n",
    "* release_date：首次上映日期\n",
    "* vote_count：评分次数\n",
    "* vote_average：平均评分\n",
    "* release_year：发行年份\n",
    "* budget_adj：根据通货膨胀调整的预算（2010 年，美元）\n",
    "* revenue_adj：根据通货膨胀调整的收入（2010 年，美元）\n",
    "\n",
    "这些数据字段并不是每一个都是我们本次报告所需求的，在接下来的过程中，根据所要解决的问题，首先对这些数据进行一个清洗。"
   ]
  },
  {
   "cell_type": "markdown",
   "metadata": {
    "id": "92ED018B43EF4EA5BD9273F2F67309C2",
    "mdEditEnable": false
   },
   "source": [
    "**删除缺失值太多或对分析没有用的列**  \n",
    "**删除对分析结果无关的列（该报告主要分析与电影评分相关的内容以及电影数量和票房随时间的变化情况）**"
   ]
  },
  {
   "cell_type": "code",
   "execution_count": 182,
   "metadata": {
    "id": "198D3B11D0724D04ACE4D611B995DB2C",
    "scrolled": false
   },
   "outputs": [],
   "source": [
    "drop_columns = ['imdb_id','id','overview','runtime','release_date','tagline','keywords',\n",
    "                'production_companies','budget_adj','revenue_adj','cast','homepage','director']\n",
    "movies_df.drop(drop_columns, axis=1, inplace=True)"
   ]
  },
  {
   "cell_type": "markdown",
   "metadata": {
    "id": "12CEA9301B6F4E6A8FD583928E92E436",
    "mdEditEnable": false
   },
   "source": [
    "#### 删除重复行和含有缺失值的行"
   ]
  },
  {
   "cell_type": "code",
   "execution_count": 183,
   "metadata": {
    "id": "39D0859BEF9D44BB80559BF18AA9F712",
    "scrolled": false
   },
   "outputs": [
    {
     "name": "stdout",
     "output_type": "stream",
     "text": [
      "1\n"
     ]
    }
   ],
   "source": [
    "# 删除重复行\n",
    "print(movies_df.duplicated().sum())\n",
    "movies_df.drop_duplicates(inplace=True)"
   ]
  },
  {
   "cell_type": "code",
   "execution_count": 184,
   "metadata": {
    "id": "8D55F81BF6A14B4E8AC5DE869C45147D",
    "scrolled": false
   },
   "outputs": [
    {
     "name": "stdout",
     "output_type": "stream",
     "text": [
      "(10842, 8)\n"
     ]
    }
   ],
   "source": [
    "# 删除含有缺失值的行\n",
    "movies_df.dropna(inplace=True) # how='any'\n",
    "print(movies_df.shape)"
   ]
  },
  {
   "cell_type": "markdown",
   "metadata": {},
   "source": [
    "这里的缺失值处理不是很好。直接删除有缺失值的行，可能会引起大片输出的删除，丢失许多宝贵的信息。所以，建议要根据分析来进行缺失值的处理，比如说：如果C特征有大量缺失，但是只需要分析A特征与B特征的相互关系，那么就没必要对C特征进行缺失值的处理，只针对A特征跟B特征进行特征处理就足够了。同理其他特征也是一样。"
   ]
  },
  {
   "cell_type": "markdown",
   "metadata": {
    "id": "3C0B9204ACE84AAF951A6E7386FE572D",
    "mdEditEnable": false,
    "scrolled": false
   },
   "source": [
    "#### 移动 vote_average 列到第一的位置"
   ]
  },
  {
   "cell_type": "code",
   "execution_count": 185,
   "metadata": {
    "id": "F61C44C3BE8A411789FE09F50A47B35C",
    "scrolled": false
   },
   "outputs": [],
   "source": [
    "vote_average = movies_df.pop('vote_average')\n",
    "movies_df.insert(0, 'vote_average', vote_average)"
   ]
  },
  {
   "cell_type": "markdown",
   "metadata": {
    "id": "C0439263FFC1404EB117311BD5735397",
    "mdEditEnable": false
   },
   "source": [
    "#### 对 vote_average 进行降序排序"
   ]
  },
  {
   "cell_type": "code",
   "execution_count": 186,
   "metadata": {
    "id": "7929999A67EE40178B80C26C98A76D6E"
   },
   "outputs": [
    {
     "data": {
      "text/html": [
       "<div>\n",
       "<style scoped>\n",
       "    .dataframe tbody tr th:only-of-type {\n",
       "        vertical-align: middle;\n",
       "    }\n",
       "\n",
       "    .dataframe tbody tr th {\n",
       "        vertical-align: top;\n",
       "    }\n",
       "\n",
       "    .dataframe thead th {\n",
       "        text-align: right;\n",
       "    }\n",
       "</style>\n",
       "<table border=\"1\" class=\"dataframe\">\n",
       "  <thead>\n",
       "    <tr style=\"text-align: right;\">\n",
       "      <th></th>\n",
       "      <th>vote_average</th>\n",
       "      <th>popularity</th>\n",
       "      <th>budget</th>\n",
       "      <th>revenue</th>\n",
       "      <th>original_title</th>\n",
       "      <th>genres</th>\n",
       "      <th>vote_count</th>\n",
       "      <th>release_year</th>\n",
       "    </tr>\n",
       "  </thead>\n",
       "  <tbody>\n",
       "    <tr>\n",
       "      <th>0</th>\n",
       "      <td>9.2</td>\n",
       "      <td>0.006925</td>\n",
       "      <td>0</td>\n",
       "      <td>0</td>\n",
       "      <td>The Story of Film: An Odyssey</td>\n",
       "      <td>Documentary</td>\n",
       "      <td>14</td>\n",
       "      <td>2011</td>\n",
       "    </tr>\n",
       "  </tbody>\n",
       "</table>\n",
       "</div>"
      ],
      "text/plain": [
       "   vote_average  popularity  budget  revenue                 original_title  \\\n",
       "0           9.2    0.006925       0        0  The Story of Film: An Odyssey   \n",
       "\n",
       "        genres  vote_count  release_year  \n",
       "0  Documentary          14          2011  "
      ]
     },
     "execution_count": 186,
     "metadata": {},
     "output_type": "execute_result"
    }
   ],
   "source": [
    "movies_df = movies_df.sort_values(by=\"vote_average\", ascending=False)\n",
    "\n",
    "movies_df.index = np.arange(len(movies_df.index)) # 设置索引\n",
    "movies_df[:].iloc[:1]"
   ]
  },
  {
   "cell_type": "code",
   "execution_count": 187,
   "metadata": {},
   "outputs": [
    {
     "name": "stdout",
     "output_type": "stream",
     "text": [
      "<class 'pandas.core.frame.DataFrame'>\n",
      "Int64Index: 10842 entries, 0 to 10841\n",
      "Data columns (total 8 columns):\n",
      "vote_average      10842 non-null float64\n",
      "popularity        10842 non-null float64\n",
      "budget            10842 non-null int64\n",
      "revenue           10842 non-null int64\n",
      "original_title    10842 non-null object\n",
      "genres            10842 non-null object\n",
      "vote_count        10842 non-null int64\n",
      "release_year      10842 non-null int64\n",
      "dtypes: float64(2), int64(4), object(2)\n",
      "memory usage: 762.3+ KB\n"
     ]
    }
   ],
   "source": [
    "movies_df.info()"
   ]
  },
  {
   "cell_type": "markdown",
   "metadata": {},
   "source": [
    "<a id='eda'></a>\n",
    "## 探索性数据分析"
   ]
  },
  {
   "cell_type": "markdown",
   "metadata": {},
   "source": [
    "计算统计值，创建可视化图表。采用系统化方法，一次只探索一个变量，然后探索变量之间的关系。"
   ]
  },
  {
   "cell_type": "markdown",
   "metadata": {},
   "source": [
    "### 1. 评分在哪个分数段的电影最多？"
   ]
  },
  {
   "cell_type": "code",
   "execution_count": 188,
   "metadata": {},
   "outputs": [
    {
     "data": {
      "image/png": "[encoded data removed]",
      "text/plain": [
       "<matplotlib.figure.Figure at 0x7f4077cb83c8>"
      ]
     },
     "metadata": {},
     "output_type": "display_data"
    }
   ],
   "source": [
    "bins = [2,3,4,5,6,7,8,9]\n",
    "bins = np.linspace(2, 9, 15, endpoint=True)\n",
    "plt.title('电影评分分布图', fontsize='15')\n",
    "plt.xlabel('vote_average')\n",
    "plt.ylabel('vote_number')\n",
    "plt.hist(movies_df['vote_average'], color='green', bins=bins);\n",
    "plt.grid(True)"
   ]
  },
  {
   "cell_type": "markdown",
   "metadata": {},
   "source": [
    "由直方图可以看出大多数的电影评分都在5.5~7.0分之间，呈左偏态。"
   ]
  },
  {
   "cell_type": "markdown",
   "metadata": {},
   "source": [
    "### 2. 票房和评分之间有什么关系？"
   ]
  },
  {
   "cell_type": "code",
   "execution_count": 189,
   "metadata": {},
   "outputs": [],
   "source": [
    "# 删除票房为0的列\n",
    "revenue_df = movies_df[movies_df['revenue']!=0]"
   ]
  },
  {
   "cell_type": "markdown",
   "metadata": {},
   "source": [
    "评分是连续的值，所以需要把评分分组，创建类别。"
   ]
  },
  {
   "cell_type": "code",
   "execution_count": 190,
   "metadata": {},
   "outputs": [],
   "source": [
    "# 用于把数据“分割”成组的边缘数据\n",
    "bin_edges = np.linspace(2, 8.5, 14, endpoint=True)\n",
    "# 对每个评分水平类别进行标签命名\n",
    "bin_names = np.linspace(2, 8, 13, endpoint=True).astype(str)\n",
    "# pandas.cut()根据这些值将该列进行拆分，创建 vote_levels 列\n",
    "vote_levels = pd.cut(revenue_df['vote_average'], bin_edges, labels=bin_names, right=False)\n",
    "revenue_df.insert(len(revenue_df.columns), 'vote_levels', vote_levels)"
   ]
  },
  {
   "cell_type": "markdown",
   "metadata": {},
   "source": [
    "注意：  \n",
    "> revenue_df['vote_levels'] = pd.cut(revenue_df['vote_average'], bin_edges, labels=bin_names, right=False)  \n",
    "会报警告：  \n",
    "/opt/conda/lib/python3.5/site-packages/ipykernel_launcher.py:1: SettingWithCopyWarning:  \n",
    "A value is trying to be set on a copy of a slice from a DataFrame.  \n",
    "Try using .loc[row_indexer,col_indexer] = value instead  \n",
    "See the caveats in the documentation: http://pandas.pydata.org/pandas-docs/stable/indexing.html#indexing-view-versus-copy  \n",
    "  \"\"\"Entry point for launching an IPython kernel.  \n",
    "**修正方案**：  \n",
    "先生成好正确的数组再插入dataframe中，如上一个cell所示。"
   ]
  },
  {
   "cell_type": "code",
   "execution_count": 191,
   "metadata": {},
   "outputs": [
    {
     "data": {
      "text/plain": [
       "6.0    1204\n",
       "6.5    1007\n",
       "5.5     979\n",
       "7.0     553\n",
       "5.0     552\n",
       "4.5     232\n",
       "7.5     185\n",
       "4.0      68\n",
       "3.5      29\n",
       "8.0      28\n",
       "3.0      10\n",
       "2.0       2\n",
       "2.5       0\n",
       "Name: vote_levels, dtype: int64"
      ]
     },
     "execution_count": 191,
     "metadata": {},
     "output_type": "execute_result"
    }
   ],
   "source": [
    "revenue_df['vote_levels'].value_counts()"
   ]
  },
  {
   "cell_type": "code",
   "execution_count": 192,
   "metadata": {},
   "outputs": [],
   "source": [
    "# 根据vote_levels 列进行分组并求平均值\n",
    "revenue_mean = revenue_df.groupby('vote_levels')['revenue'].mean()\n",
    "vote_levels = np.linspace(2, 8, 13, endpoint=True)"
   ]
  },
  {
   "cell_type": "code",
   "execution_count": 193,
   "metadata": {},
   "outputs": [
    {
     "data": {
      "image/png": "[encoded data removed]",
      "text/plain": [
       "<matplotlib.figure.Figure at 0x7f406f975438>"
      ]
     },
     "metadata": {},
     "output_type": "display_data"
    }
   ],
   "source": [
    "plt.xlabel('vote_levels')\n",
    "plt.ylabel('revenue_mean')\n",
    "plt.title(u'评分和票房关系图', fontsize='15')\n",
    "plt.grid(True)\n",
    "plt.scatter(vote_levels, revenue_mean, c='r', s=200, alpha=0.7);"
   ]
  },
  {
   "cell_type": "markdown",
   "metadata": {},
   "source": [
    "从散点图可以看出，评分和票房是呈正相关的关系。"
   ]
  },
  {
   "cell_type": "markdown",
   "metadata": {},
   "source": [
    "### 3. 评分最高的一百部电影的主要风格是什么？"
   ]
  },
  {
   "cell_type": "code",
   "execution_count": 194,
   "metadata": {},
   "outputs": [
    {
     "data": {
      "text/html": [
       "<div>\n",
       "<style scoped>\n",
       "    .dataframe tbody tr th:only-of-type {\n",
       "        vertical-align: middle;\n",
       "    }\n",
       "\n",
       "    .dataframe tbody tr th {\n",
       "        vertical-align: top;\n",
       "    }\n",
       "\n",
       "    .dataframe thead th {\n",
       "        text-align: right;\n",
       "    }\n",
       "</style>\n",
       "<table border=\"1\" class=\"dataframe\">\n",
       "  <thead>\n",
       "    <tr style=\"text-align: right;\">\n",
       "      <th></th>\n",
       "      <th>vote_average</th>\n",
       "      <th>popularity</th>\n",
       "      <th>budget</th>\n",
       "      <th>revenue</th>\n",
       "      <th>original_title</th>\n",
       "      <th>genres</th>\n",
       "      <th>vote_count</th>\n",
       "      <th>release_year</th>\n",
       "    </tr>\n",
       "  </thead>\n",
       "  <tbody>\n",
       "    <tr>\n",
       "      <th>0</th>\n",
       "      <td>9.2</td>\n",
       "      <td>0.006925</td>\n",
       "      <td>0</td>\n",
       "      <td>0</td>\n",
       "      <td>The Story of Film: An Odyssey</td>\n",
       "      <td>Documentary</td>\n",
       "      <td>14</td>\n",
       "      <td>2011</td>\n",
       "    </tr>\n",
       "    <tr>\n",
       "      <th>1</th>\n",
       "      <td>8.9</td>\n",
       "      <td>0.114264</td>\n",
       "      <td>0</td>\n",
       "      <td>0</td>\n",
       "      <td>The Mask You Live In</td>\n",
       "      <td>Documentary</td>\n",
       "      <td>11</td>\n",
       "      <td>2015</td>\n",
       "    </tr>\n",
       "    <tr>\n",
       "      <th>2</th>\n",
       "      <td>8.8</td>\n",
       "      <td>0.222293</td>\n",
       "      <td>0</td>\n",
       "      <td>0</td>\n",
       "      <td>Life Cycles</td>\n",
       "      <td>Documentary</td>\n",
       "      <td>27</td>\n",
       "      <td>2010</td>\n",
       "    </tr>\n",
       "  </tbody>\n",
       "</table>\n",
       "</div>"
      ],
      "text/plain": [
       "   vote_average  popularity  budget  revenue                 original_title  \\\n",
       "0           9.2    0.006925       0        0  The Story of Film: An Odyssey   \n",
       "1           8.9    0.114264       0        0           The Mask You Live In   \n",
       "2           8.8    0.222293       0        0                    Life Cycles   \n",
       "\n",
       "        genres  vote_count  release_year  \n",
       "0  Documentary          14          2011  \n",
       "1  Documentary          11          2015  \n",
       "2  Documentary          27          2010  "
      ]
     },
     "execution_count": 194,
     "metadata": {},
     "output_type": "execute_result"
    }
   ],
   "source": [
    "vote_ranking = movies_df.iloc[:100]\n",
    "vote_ranking.head(3)"
   ]
  },
  {
   "cell_type": "code",
   "execution_count": 195,
   "metadata": {},
   "outputs": [],
   "source": [
    "# 得到包含所有电影风格的列表\n",
    "\n",
    "'''这是之前的写法\n",
    "genres_list = [] \n",
    "for i in vote_ranking['genres']:\n",
    "    genres_list = genres_list + i.split('|')\n",
    "'''\n",
    "\n",
    "from functools import reduce\n",
    "genres_list = vote_ranking['genres'].apply(lambda x: x.split('|'))\n",
    "genres = pd.Series(reduce(lambda x,y: x+y, genres_list)) # 迭代列表求和"
   ]
  },
  {
   "cell_type": "code",
   "execution_count": 196,
   "metadata": {},
   "outputs": [],
   "source": [
    "# 取前十五种风格\n",
    "genres_counts = genres.value_counts().iloc[:15]"
   ]
  },
  {
   "cell_type": "code",
   "execution_count": 197,
   "metadata": {},
   "outputs": [
    {
     "data": {
      "image/png": "[encoded data removed]",
      "text/plain": [
       "<matplotlib.figure.Figure at 0x7f406ebf0c18>"
      ]
     },
     "metadata": {},
     "output_type": "display_data"
    }
   ],
   "source": [
    "plt.figure(figsize=(7,7))\n",
    "plt.title('电影主要风格图', fontsize='15')\n",
    "labels = genres_counts.index\n",
    "plt.pie(genres_counts.values, labels = labels, autopct='%1.1f%%');"
   ]
  },
  {
   "cell_type": "code",
   "execution_count": 198,
   "metadata": {},
   "outputs": [
    {
     "data": {
      "image/png": "[encoded data removed]",
      "text/plain": [
       "<matplotlib.figure.Figure at 0x7f406d964f60>"
      ]
     },
     "metadata": {},
     "output_type": "display_data"
    }
   ],
   "source": [
    "# 横向柱状图\n",
    "plt.barh(genres_counts.index[::-1], genres_counts.values[::-1]); # [::-1]表示反向排序"
   ]
  },
  {
   "cell_type": "markdown",
   "metadata": {},
   "source": [
    "高评分电影的主要风格有：Drama, Documentary, Music, Crime, Comedy。"
   ]
  },
  {
   "cell_type": "markdown",
   "metadata": {},
   "source": [
    "**制作电影风格的词云图**"
   ]
  },
  {
   "cell_type": "code",
   "execution_count": 199,
   "metadata": {},
   "outputs": [],
   "source": [
    "import jieba                      #分词库\n",
    "from wordcloud import WordCloud   #词云库"
   ]
  },
  {
   "cell_type": "code",
   "execution_count": 200,
   "metadata": {},
   "outputs": [],
   "source": [
    "# 将各电影的风格以‘/’分隔，形成字符串\n",
    "\n",
    "'''这是之前的写法\n",
    "genres_str = ''\n",
    "for i in genres.astype(str):\n",
    "    genres_str = genres_str + i + '/'\n",
    "genres_str = genres_str[:-1]\n",
    "'''\n",
    "\n",
    "genres_str = \"/\".join(genres.values)"
   ]
  },
  {
   "cell_type": "code",
   "execution_count": 201,
   "metadata": {},
   "outputs": [
    {
     "data": {
      "image/png": "[encoded data removed]",
      "text/plain": [
       "<matplotlib.figure.Figure at 0x7f4077cee780>"
      ]
     },
     "metadata": {},
     "output_type": "display_data"
    }
   ],
   "source": [
    "# 对分词后的文本生成词云\n",
    "genres_wordcloud = WordCloud().generate(genres_str)\n",
    "plt.title('电影风格云图', fontsize='15')\n",
    "plt.imshow(genres_wordcloud)\n",
    "plt.axis(\"off\"); #去掉x,y轴的刻度"
   ]
  },
  {
   "cell_type": "markdown",
   "metadata": {},
   "source": [
    "### 4、随着时间的推移，电影收入和数量是怎么变化的？"
   ]
  },
  {
   "cell_type": "code",
   "execution_count": 202,
   "metadata": {},
   "outputs": [],
   "source": [
    "# 移除收入为0的列\n",
    "revenue_df = movies_df[movies_df['revenue']!=0]"
   ]
  },
  {
   "cell_type": "code",
   "execution_count": 203,
   "metadata": {},
   "outputs": [],
   "source": [
    "# 统计每个年份的电影数量，并按照年份排序\n",
    "movie_num = revenue_df['release_year'].value_counts().sort_index()"
   ]
  },
  {
   "cell_type": "code",
   "execution_count": 204,
   "metadata": {},
   "outputs": [],
   "source": [
    "# 统计每个年份的电影收入\n",
    "movie_revenue = revenue_df.groupby('release_year').sum()['revenue']"
   ]
  },
  {
   "cell_type": "code",
   "execution_count": 205,
   "metadata": {},
   "outputs": [
    {
     "data": {
      "image/png": "[encoded data removed]",
      "text/plain": [
       "<matplotlib.figure.Figure at 0x7f4077de4860>"
      ]
     },
     "metadata": {},
     "output_type": "display_data"
    }
   ],
   "source": [
    "plt.figure(figsize=(8,5))\n",
    "\n",
    "plt.subplot(211)\n",
    "plt.grid(True)\n",
    "plt.ylabel('revenue')\n",
    "plt.xlabel('release_year')\n",
    "plt.title('电影票房随时间的走势图', fontsize='14')\n",
    "plt.plot(movie_revenue, color='green', alpha=.7)\n",
    "\n",
    "plt.subplot(212)\n",
    "plt.grid(True)\n",
    "plt.ylabel('number')\n",
    "plt.xlabel('release_year')\n",
    "plt.title('电影数量随时间的走势图', fontsize='14')\n",
    "plt.plot(movie_num, color='red', alpha=.7);\n",
    "\n",
    "plt.tight_layout() # 调整子图之间的距离"
   ]
  },
  {
   "cell_type": "markdown",
   "metadata": {},
   "source": [
    "随着时间的推移，电影事业得到了巨大的发展，电影数量和收入都大幅增加，而且是同步增加。"
   ]
  },
  {
   "cell_type": "markdown",
   "metadata": {},
   "source": [
    "<a id='conclusions'></a>\n",
    "## 结论\n",
    "\n",
    "> 总结调查结果。请确保你了解在探索过程中的局限性。如果尚未进行任何统计检验，不要做出任何统计结论。切记不要根据相关关系贸然推导出因果关系！"
   ]
  },
  {
   "cell_type": "code",
   "execution_count": 206,
   "metadata": {},
   "outputs": [
    {
     "data": {
      "text/plain": [
       "255"
      ]
     },
     "execution_count": 206,
     "metadata": {},
     "output_type": "execute_result"
    }
   ],
   "source": [
    "from subprocess import call\n",
    "call(['python', '-m', 'nbconvert', 'Investigate_a_Dataset.ipynb'])"
   ]
  },
  {
   "cell_type": "markdown",
   "metadata": {},
   "source": [
    "经过对该电影数据集的分析，可以得到以下结论：\n",
    "1. 随着时间的推移，电影获得了巨大发展，尤其是1990年之后，电影数量和票房增加迅速。\n",
    "2. 电影评分和票房呈正相关关系，说明电影质量高，观众是愿意为其买单的。\n",
    "3. 大多数电影的评分主要分布在5.5~7.0分之间，比较明显的正态分布。\n",
    "4. 高评分的电影风格主要有Drama、Documentary、Music等。"
   ]
  },
  {
   "cell_type": "markdown",
   "metadata": {},
   "source": [
    "#### 局限性：\n",
    "1. 某些电影的评分次数太少（小于50），这使得电影评分很有可能不能真实反映出电影的质量水平；\n",
    "2. 电影收入为零的无效数据太多（占一半多），降低了最后结果的可靠性；"
   ]
  },
  {
   "cell_type": "markdown",
   "metadata": {},
   "source": [
    "参考：\n",
    "1. [IMDB Movie :Python数据分析报告](https://zhuanlan.zhihu.com/p/34034272)  \n",
    "2. [IMDB电影数据分析](https://www.kesci.com/apps/home/project/5ad5a5687238515d80b55cba/code)  \n",
    "3. [TMDB电影数据分析](https://zhuanlan.zhihu.com/p/35164262)"
   ]
  },
  {
   "cell_type": "code",
   "execution_count": null,
   "metadata": {},
   "outputs": [],
   "source": []
  }
 ],
 "metadata": {
  "kernelspec": {
   "display_name": "Python 3",
   "language": "python",
   "name": "python3"
  },
  "language_info": {
   "codemirror_mode": {
    "name": "ipython",
    "version": 3
   },
   "file_extension": ".py",
   "mimetype": "text/x-python",
   "name": "python",
   "nbconvert_exporter": "python",
   "pygments_lexer": "ipython3",
   "version": "3.6.3"
  }
 },
 "nbformat": 4,
 "nbformat_minor": 1
}
